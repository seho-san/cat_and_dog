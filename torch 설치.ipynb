{
 "cells": [
  {
   "cell_type": "markdown",
   "id": "a54bb0f7",
   "metadata": {},
   "source": [
    "# Powershell prompt install 하고 현재 개발환경에서 아래 명령어 복붙\n",
    "\n",
    "## conda install pytorch torchvision torchaudio pytorch-cuda=12.1 -c pytorch -c nvidia\n",
    "\n",
    "### 그 전에 인터넷에서 cuda랑 cudnn 본인 노트북 버전에 맞는 걸로 설치해야 함\n",
    "\n",
    "아래 코드로 설치됐는지 확인"
   ]
  },
  {
   "cell_type": "code",
   "execution_count": 1,
   "id": "4242f154",
   "metadata": {},
   "outputs": [
    {
     "name": "stdout",
     "output_type": "stream",
     "text": [
      "True\n",
      "NVIDIA GeForce RTX 3060 Laptop GPU\n"
     ]
    }
   ],
   "source": [
    "import torch\n",
    "print(torch.cuda.is_available())  # True가 출력되면 GPU 사용 가능\n",
    "print(torch.cuda.get_device_name(0))  # GPU 이름 출력"
   ]
  },
  {
   "cell_type": "code",
   "execution_count": null,
   "id": "196e22b5",
   "metadata": {},
   "outputs": [],
   "source": []
  }
 ],
 "metadata": {
  "kernelspec": {
   "display_name": "Python 3 (ipykernel)",
   "language": "python",
   "name": "python3"
  },
  "language_info": {
   "codemirror_mode": {
    "name": "ipython",
    "version": 3
   },
   "file_extension": ".py",
   "mimetype": "text/x-python",
   "name": "python",
   "nbconvert_exporter": "python",
   "pygments_lexer": "ipython3",
   "version": "3.9.16"
  }
 },
 "nbformat": 4,
 "nbformat_minor": 5
}
